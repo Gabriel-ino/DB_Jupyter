{
 "cells": [
  {
   "cell_type": "code",
   "execution_count": 79,
   "metadata": {},
   "outputs": [],
   "source": [
    "!pip install -q -U matplotlib==3.2.1"
   ]
  },
  {
   "cell_type": "code",
   "execution_count": 80,
   "metadata": {},
   "outputs": [],
   "source": [
    "import sqlite3\n",
    "import matplotlib\n",
    "import matplotlib.pyplot as plt\n",
    "%matplotlib notebook"
   ]
  },
  {
   "cell_type": "code",
   "execution_count": 81,
   "metadata": {},
   "outputs": [],
   "source": [
    "connection = sqlite3.connect('bancodedados.db')\n",
    "cursor = connection.cursor()\n",
    "\n",
    "def criarbanco():\n",
    "    cursor.execute('CREATE TABLE IF NOT EXISTS bancodedados(id INTEGER PRIMARY KEY AUTOINCREMENT NOT NULL, nome_func TEXT,' \\\n",
    "                  'profissao TEXT, salario REAL)')\n",
    "    \n",
    "def adicionarfunc(nome_func, profissao, salario):\n",
    "    cursor.execute('INSERT INTO bancodedados(nome_func, profissao, salario) VALUES (?, ?, ?)', (nome_func, profissao, salario))\n",
    "    connection.commit()\n",
    "\n",
    "def mostradado(nome_func):\n",
    "    cursor.execute('SELECT * FROM bancodedados')\n",
    "    for linha in cursor.fetchall():\n",
    "        if nome_func in linha:\n",
    "            print(linha)\n",
    "\n",
    "            \n",
    "def apagafunc(id):\n",
    "    cursor.execute('DELETE FROM bancodedados WHERE id = ?', id)\n",
    "    connection.commit()\n",
    "    print('Funcionário deletado!')\n",
    "    \n",
    "def alteradado(id, salario):\n",
    "    cursor.execute('UPDATE bancodedados SET salario = ? WHERE id = ?', (salario, id))\n",
    "    connection.commit()\n",
    "    print('Salário alterado com sucesso!')"
   ]
  },
  {
   "cell_type": "code",
   "execution_count": 82,
   "metadata": {},
   "outputs": [
    {
     "name": "stdout",
     "output_type": "stream",
     "text": [
      "[1] - Adicionar funcionário\n",
      "[2] - Procurar dados\n",
      "[3] - Apagar funcionário\n",
      "[4] - Alterar salario4\n",
      "Digite o ID do funcionário: 1\n",
      "Digite o novo salário: 9900\n",
      "Salário alterado com sucesso!\n",
      "Continuar alterando[S/N]?n\n"
     ]
    }
   ],
   "source": [
    "while True:\n",
    "    criarbanco()\n",
    "    esc = int(input('[1] - Adicionar funcionário\\n[2] - Procurar dados\\n[3] - Apagar funcionário\\n[4] - Alterar salario'))\n",
    "    if esc == 1:\n",
    "        while True:\n",
    "            adicionarfunc(str(input('Nome do funcionário: ')), str(input('Cargo do funcionário: ')), float(input('Salario: ')))\n",
    "            esc = str(input('Continuar[S/N]?')).strip().upper()[0]\n",
    "            while esc not in 'SN':\n",
    "                esc = str(input('Digite uma opção válida: ')).strip().upper()[0]\n",
    "            if esc == 'N':\n",
    "                break\n",
    "\n",
    "    if esc == 2:\n",
    "        while True:\n",
    "            mostradado(str(input('Digite o nome do funcionário: ')))\n",
    "            esc = str(input('Continuar?[S/N]')).strip().upper()[0]\n",
    "            while esc not in 'SN':\n",
    "                esc = str(input('Digite um valor válido: ')).strip().upper()[0]\n",
    "            if esc == 'N':\n",
    "                break\n",
    "\n",
    "    if esc == 3:\n",
    "        while True:\n",
    "            apagafunc(str(input('Digite o id do funcionário: ')))\n",
    "            esc = str(input('Continuar [S/N]?')).strip().upper()[0]\n",
    "            if esc == 'N':\n",
    "                break\n",
    "    if esc == 4:\n",
    "        while True:\n",
    "            alteradado(str(input('Digite o ID do funcionário: ')), float(input('Digite o novo salário: ')))\n",
    "            esc = str(input('Continuar alterando[S/N]?')).strip().upper()[0]\n",
    "            while esc not in 'SN':\n",
    "                esc = str(input('Digite um valor válido!')).strip().upper()[0]\n",
    "            if esc == 'N':\n",
    "                break\n",
    "    esc = str(input('Deseja realizar alguma outra função [S/N]?')).strip().upper()[0]\n",
    "    while esc not in 'SN':\n",
    "        esc = str(input('Digite um valor válido: ')).strip().upper()[0]\n",
    "    if esc == 'N':\n",
    "        print('Volte sempre!')\n",
    "        break"
   ]
  },
  {
   "cell_type": "code",
   "execution_count": null,
   "metadata": {},
   "outputs": [],
   "source": []
  }
 ],
 "metadata": {
  "kernelspec": {
   "display_name": "Python 3",
   "language": "python",
   "name": "python3"
  },
  "language_info": {
   "codemirror_mode": {
    "name": "ipython",
    "version": 3
   },
   "file_extension": ".py",
   "mimetype": "text/x-python",
   "name": "python",
   "nbconvert_exporter": "python",
   "pygments_lexer": "ipython3",
   "version": "3.8.5"
  }
 },
 "nbformat": 4,
 "nbformat_minor": 4
}
